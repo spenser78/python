{
 "cells": [
  {
   "cell_type": "markdown",
   "metadata": {},
   "source": [
    "Задание 1\n",
    "\n",
    "Дана переменная, в которой хранится словарь, содержащий гео-метки для каждого пользователя (пример структуры данных приведен ниже). Вам необходимо написать программу, которая выведет на экран множество уникальных гео-меток всех пользователей.\n",
    "\n",
    "Пример работы программы:\n",
    "\n",
    "ids = {'user1': [213, 213, 213, 15, 213], \n",
    "       'user2': [54, 54, 119, 119, 119], \n",
    "       'user3': [213, 98, 98, 35]}\n",
    "Результат: {98, 35, 15, 213, 54, 119}"
   ]
  },
  {
   "cell_type": "code",
   "execution_count": 31,
   "metadata": {},
   "outputs": [
    {
     "name": "stdout",
     "output_type": "stream",
     "text": [
      "Результат: {98, 35, 15, 213, 54, 119}\n"
     ]
    }
   ],
   "source": [
    "ids = {'user1': [213, 213, 213, 15, 213], \n",
    "       'user2': [54, 54, 119, 119, 119], \n",
    "       'user3': [213, 98, 98, 35]}\n",
    "\n",
    "# 1) получаем список значений словаря: list(ids.values()\n",
    "# 2) применяем сложение списков внутри списка в один список: sum(list(ids.values(), [])\n",
    "# 3) преобразуем получившийся результат во множество: set(sum(list(ids.values(), [])) \n",
    "# 4) красиво оформляем, чтобы получить то, что было заявлено в условии: print (f'Результат: {set(sum(list(ids.values(), []))}') \n",
    "    \n",
    "print (f'Результат: {set(sum(list(ids.values()), []))}') \n"
   ]
  },
  {
   "cell_type": "markdown",
   "metadata": {},
   "source": [
    "Задание 2\n",
    "Дана переменная, в которой хранится список поисковых запросов пользователя (пример структуры данных приведен ниже). Вам необходимо написать программу, которая выведет на экран распределение количества слов в запросах в требуемом виде.\n",
    "\n",
    "Пример работы программы:\n",
    "\n",
    "queries = [\n",
    "    'смотреть сериалы онлайн',\n",
    "    'новости спорта',\n",
    "    'афиша кино',\n",
    "    'курс доллара',\n",
    "    'сериалы этим летом',\n",
    "    'курс по питону',\n",
    "    'сериалы про спорт',\n",
    "]\n",
    "Результат:\n",
    "\n",
    "Поисковых запросов, содержащих 2 слов(а): 42.86%\n",
    "Поисковых запросов, содержащих 3 слов(а): 57.14%\n"
   ]
  },
  {
   "cell_type": "code",
   "execution_count": 1,
   "metadata": {},
   "outputs": [
    {
     "name": "stdout",
     "output_type": "stream",
     "text": [
      "Поисковых запросов, содержащих 3 слов(а): 57.14%\n",
      "Поисковых запросов, содержащих 2 слов(а): 42.86%\n"
     ]
    }
   ],
   "source": [
    "queries = [\n",
    "    'смотреть сериалы онлайн',\n",
    "    'новости спорта',\n",
    "    'афиша кино',\n",
    "    'курс доллара',\n",
    "    'сериалы этим летом',\n",
    "    'курс по питону',\n",
    "    'сериалы про спорт',\n",
    "]\n",
    "\n",
    "quantity_of_all_queries = len(queries)\n",
    "\n",
    "number_of_queries = {}\n",
    "\n",
    "for query in queries:\n",
    "    i = len(query.split(' '))\n",
    "    if i not in number_of_queries:\n",
    "        number_of_queries[i] = 1\n",
    "    else:\n",
    "        number_of_queries[i] +=1\n",
    "\n",
    "for key, value in number_of_queries.items():\n",
    "       print(f'Поисковых запросов, содержащих {key} слов(а): {\"{0:.2f}\".format((value / quantity_of_all_queries) * 100)}%')"
   ]
  },
  {
   "cell_type": "markdown",
   "metadata": {},
   "source": [
    "Задание 3\n",
    "Дана переменная, в которой хранится информация о затратах и доходе рекламных кампаний по различным источникам. Необходимо дополнить исходную структуру показателем ROI, который рассчитаем по формуле: (revenue / cost - 1) * 100\n",
    "\n",
    "Пример работы программы:\n",
    "\n",
    "results = {\n",
    "    'vk': {'revenue': 103, 'cost': 98},\n",
    "    'yandex': {'revenue': 179, 'cost': 153},\n",
    "    'facebook': {'revenue': 103, 'cost': 110},\n",
    "    'adwords': {'revenue': 35, 'cost': 34},\n",
    "    'twitter': {'revenue': 11, 'cost': 24},\n",
    "}\n",
    "Результат:\n",
    "\n",
    "{'adwords': {'ROI': 2.94, 'cost': 34, 'revenue': 35},\n",
    " 'facebook': {'ROI': -6.36, 'cost': 110, 'revenue': 103},\n",
    " 'twitter': {'ROI': -54.17, 'cost': 24, 'revenue': 11},\n",
    " 'vk': {'ROI': 5.1, 'cost': 98, 'revenue': 103},\n",
    " 'yandex': {'ROI': 16.99, 'cost': 153, 'revenue': 179}}"
   ]
  },
  {
   "cell_type": "code",
   "execution_count": 4,
   "metadata": {},
   "outputs": [
    {
     "name": "stdout",
     "output_type": "stream",
     "text": [
      "{'vk': {'revenue': 103, 'cost': 98, 'ROI': '5.10'}, 'yandex': {'revenue': 179, 'cost': 153, 'ROI': '16.99'}, 'facebook': {'revenue': 103, 'cost': 110, 'ROI': '-6.36'}, 'adwords': {'revenue': 35, 'cost': 34, 'ROI': '2.94'}, 'twitter': {'revenue': 11, 'cost': 24, 'ROI': '-54.17'}}\n"
     ]
    }
   ],
   "source": [
    "results = {\n",
    "    'vk': {'revenue': 103, 'cost': 98},\n",
    "    'yandex': {'revenue': 179, 'cost': 153},\n",
    "    'facebook': {'revenue': 103, 'cost': 110},\n",
    "    'adwords': {'revenue': 35, 'cost': 34},\n",
    "    'twitter': {'revenue': 11, 'cost': 24},\n",
    "}\n",
    "results2 = results.copy()\n",
    "\n",
    "for i in results2:\n",
    "    i_roi_float_2 = '{0:.2f}'.format(((list(results[i].values())[0]/list(results[i].values())[1]) - 1)*100)\n",
    "    results[i].update({'ROI':i_roi_float_2})\n",
    "print(results)"
   ]
  },
  {
   "cell_type": "markdown",
   "metadata": {},
   "source": [
    "Задание 4\n",
    "Дана переменная, в которой хранится статистика рекламных каналов по объемам продаж (пример структуры данных приведен ниже). Напишите программу, которая возвращает название канала с максимальным объемом продаж.\n",
    "\n",
    "Пример работы программы:\n",
    "\n",
    "stats = {'facebook': 55, 'yandex': 115, 'vk': 120, 'google': 99, 'email': 42, 'ok': 98}\n",
    "\n",
    "Результат: Максимальный объем продаж на рекламном канале: vk\n"
   ]
  },
  {
   "cell_type": "code",
   "execution_count": 96,
   "metadata": {},
   "outputs": [
    {
     "name": "stdout",
     "output_type": "stream",
     "text": [
      "Максимальный объем продаж на рекламном канале: vk\n"
     ]
    }
   ],
   "source": [
    "\n",
    "stats = {'facebook': 55, 'yandex': 115, 'vk': 120, 'google': 99, 'email': 42, 'ok': 98}\n",
    "\n",
    "keys_list = list(stats.keys())\n",
    "values_list = list(stats.values())\n",
    "\n",
    "print(f'Максимальный объем продаж на рекламном канале: {keys_list[values_list.index(max(values_list))]}')"
   ]
  }
 ],
 "metadata": {
  "kernelspec": {
   "display_name": "Python 3",
   "language": "python",
   "name": "python3"
  },
  "language_info": {
   "codemirror_mode": {
    "name": "ipython",
    "version": 3
   },
   "file_extension": ".py",
   "mimetype": "text/x-python",
   "name": "python",
   "nbconvert_exporter": "python",
   "pygments_lexer": "ipython3",
   "version": "3.7.6"
  }
 },
 "nbformat": 4,
 "nbformat_minor": 4
}
