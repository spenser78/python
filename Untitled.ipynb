{
 "cells": [
  {
   "cell_type": "code",
   "execution_count": 1,
   "metadata": {},
   "outputs": [
    {
     "ename": "SyntaxError",
     "evalue": "invalid syntax (<ipython-input-1-3be33c42d41d>, line 14)",
     "output_type": "error",
     "traceback": [
      "\u001b[1;36m  File \u001b[1;32m\"<ipython-input-1-3be33c42d41d>\"\u001b[1;36m, line \u001b[1;32m14\u001b[0m\n\u001b[1;33m    print(f'Владелец документа: {data['name']}')\u001b[0m\n\u001b[1;37m                                          ^\u001b[0m\n\u001b[1;31mSyntaxError\u001b[0m\u001b[1;31m:\u001b[0m invalid syntax\n"
     ]
    }
   ],
   "source": [
    "documents = [ {'type': 'passport', 'number': '2207 876234', 'name': 'Василий Гупкин'}, \n",
    "             {'type': 'invoice', 'number': '11-2', 'name': 'Геннадий Покемонов'}, \n",
    "             {'type': 'insurance', 'number': '10006', 'name': 'Аристарх Павлов'} ] \n",
    "\n",
    "directories = { '1': ['2207 876234', '11-2'], \n",
    "               '2': ['10006'], '3': [] }\n",
    "\n",
    " \n",
    "\n",
    "def second_step():\n",
    "    input_number = input('Введите номер документа: ')\n",
    "    for data in documents:\n",
    "        if input_number == data['number']:\n",
    "            print(f'Владелец документа: {data['name']}')\n",
    "        else:\n",
    "            print('Документ не найден в базе')\n",
    "\n",
    "def owner_by_number():\n",
    "    while True:\n",
    "        input_command = input('Введите команду:')\n",
    "        if input_command == 'q':\n",
    "            print('Программа завершена')\n",
    "            break\n",
    "        elif input_command == 'p':\n",
    "            second_step()\n",
    "        else:\n",
    "            print('Неверный ввод')\n",
    "                          \n",
    "                    \n",
    "            \n",
    "        \n",
    "owner_by_number"
   ]
  },
  {
   "cell_type": "code",
   "execution_count": null,
   "metadata": {},
   "outputs": [],
   "source": []
  }
 ],
 "metadata": {
  "kernelspec": {
   "display_name": "Python 3",
   "language": "python",
   "name": "python3"
  },
  "language_info": {
   "codemirror_mode": {
    "name": "ipython",
    "version": 3
   },
   "file_extension": ".py",
   "mimetype": "text/x-python",
   "name": "python",
   "nbconvert_exporter": "python",
   "pygments_lexer": "ipython3",
   "version": "3.7.6"
  }
 },
 "nbformat": 4,
 "nbformat_minor": 4
}
