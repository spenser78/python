{
 "cells": [
  {
   "cell_type": "markdown",
   "metadata": {},
   "source": [
    "\n",
    "Задание 1\n",
    "Напишите функцию, которая принимает на вход строку и проверяет является ли она валидным транспортным номером (1 буква, 3 цифры, 2 буквы, 2-3 цифры). Обратите внимание, что не все буквы кириллического алфавита используются в транспортных номерах.\n",
    "\n",
    "Если номер валиден, то функция должна возвращать отдельно номер и регион.\n",
    "\n",
    "Примеры работы программы:\n",
    "\n",
    "car_id = 'A222BC96'\n",
    "Результат: Номер A222BС валиден. Регион: 96\n",
    "\n",
    "car_id = 'АБ22ВВ193'\n",
    "Результат: Номер не валиден"
   ]
  },
  {
   "cell_type": "code",
   "execution_count": 13,
   "metadata": {},
   "outputs": [
    {
     "name": "stdout",
     "output_type": "stream",
     "text": [
      "Введите номер машины в формате \"А777АА77\": е470кк77\n",
      "Результат: Номер е470кк валиден. Регион: 77\n"
     ]
    }
   ],
   "source": [
    "import re\n",
    "\n",
    "def car_id_verification():\n",
    "    car_id_input = input('Введите номер машины в формате \"А777АА77\": ')\n",
    "    car_id_regex = r'([авекмнорстухАВЕКМНОРСТУХ]{1}\\d{3}[авекмнорстухАВЕКМНОРСТУХ]{2})(\\d{2,3})'#разбил вводимый номер на две группы для удобства вывода в ответе\n",
    "    try:\n",
    "        car_id_validation = re.search(car_id_regex, car_id_input)\n",
    "        print(f'Результат: Номер {car_id_validation.group(1)} валиден. Регион: {car_id_validation.group(2)}')\n",
    "    except:\n",
    "        print('Результат: Номер не валиден')\n",
    "\n",
    "car_id_verification()\n"
   ]
  },
  {
   "cell_type": "code",
   "execution_count": null,
   "metadata": {},
   "outputs": [],
   "source": []
  },
  {
   "cell_type": "markdown",
   "metadata": {},
   "source": [
    "\n",
    "Задание 2\n",
    "Напишите функцию, которая будет удалять все последовательные повторы слов из заданной строки при помощи регулярных выражений.\n",
    "\n",
    "Пример работы программы:\n",
    "\n",
    "some_string = 'Напишите функцию функцию, которая будет будет будет будет удалять все все все все последовательные повторы слов из из из из заданной строки строки при помощи регулярных выражений.'\n",
    "\n",
    "Результат:\n",
    "Напишите функцию, которая будет удалять все последовательные повторы слов из заданной строки при помощи регулярных выражений."
   ]
  },
  {
   "cell_type": "code",
   "execution_count": 1,
   "metadata": {},
   "outputs": [
    {
     "name": "stdout",
     "output_type": "stream",
     "text": [
      "Напишите функцию, которая будет удалять все последовательные повторы слов из заданной строки при помощи регулярных выражений\n"
     ]
    }
   ],
   "source": [
    "import re\n",
    "\n",
    "def delete_repeats():\n",
    "    string = 'Напишите функцию функцию, которая будет будет будет будет удалять все все все все последовательные повторы слов из из из из заданной строки строки при помощи регулярных выражений'\n",
    "    delete_repeats_regex = re.sub(r'(\\w+)(\\s\\1)+', r'\\1', string) \n",
    "    print(delete_repeats_regex)\n",
    "\n",
    "delete_repeats()"
   ]
  },
  {
   "cell_type": "code",
   "execution_count": null,
   "metadata": {},
   "outputs": [],
   "source": []
  },
  {
   "cell_type": "markdown",
   "metadata": {},
   "source": [
    "\n",
    "Задание 3\n",
    "Напишите функцию, которая будет возвращать акроним по переданной в нее строке со словами.\n",
    "\n",
    "Примеры работы программы:\n",
    "\n",
    "some_words = 'Информационные технологии'\n",
    "Результат: ИТ\n",
    "\n",
    "some_words = 'Near Field Communication'\n",
    "Результат: NFC"
   ]
  },
  {
   "cell_type": "code",
   "execution_count": 4,
   "metadata": {},
   "outputs": [
    {
     "name": "stdout",
     "output_type": "stream",
     "text": [
      "NFC\n"
     ]
    }
   ],
   "source": [
    "import re\n",
    "\n",
    "some_words = 'Near Field Communication' \n",
    "\n",
    "def acronimus():\n",
    "    acronim = re.sub(r'(\\w)(\\w+)', r'\\1', some_words)\n",
    "    print(acronim.replace(\" \", \"\"))\n",
    "    \n",
    "acronimus()"
   ]
  },
  {
   "cell_type": "code",
   "execution_count": null,
   "metadata": {},
   "outputs": [],
   "source": []
  },
  {
   "cell_type": "markdown",
   "metadata": {},
   "source": [
    "\n",
    "Задание 4\n",
    "Напишите функцию, которая будет принимать на вход список email-адресов и выводить их распределение по доменным зонам.\n",
    "\n",
    "Пример работы программы:\n",
    "\n",
    "emails = ['test@gmail.com', 'xyz@test.in', 'test@ya.ru', 'xyz@mail.ru', 'xyz@ya.ru', 'xyz@gmail.com']\n",
    "\n",
    "Результат:\n",
    "\n",
    "gmail.com: 2\n",
    "test.in: 1 \n",
    "ya.ru: 2 \n",
    "mail.ru: 1"
   ]
  },
  {
   "cell_type": "code",
   "execution_count": 57,
   "metadata": {},
   "outputs": [
    {
     "name": "stdout",
     "output_type": "stream",
     "text": [
      "gmail.com:2 test.in:1 ya.ru:2 mail.ru:1\n"
     ]
    }
   ],
   "source": [
    "import re\n",
    "\n",
    "def quantity_of_emails_in_domain_zone():\n",
    "    emails =  ['test@gmail.com', 'xyz@test.in', 'test@ya.ru', 'xyz@mail.ru', 'xyz@ya.ru', 'xyz@gmail.com']\n",
    "    str_for_regex = str(emails)\n",
    "    domain_regex = re.findall(r'(?<=@)(\\w+\\.\\w+)', str_for_regex)\n",
    "    list_of_domains = {}\n",
    "    for i in domain_regex:\n",
    "        if i not in list_of_domains.keys():\n",
    "            list_of_domains[i] = 1\n",
    "        else:\n",
    "            list_of_domains[i] += 1\n",
    "    result = ' '.join(f'{key}:{value}' for key, value in list_of_domains.items())\n",
    "\n",
    "    print(result)\n",
    "    \n",
    "\n",
    "    \n",
    "quantity_of_emails_in_domain_zone()"
   ]
  }
 ],
 "metadata": {
  "kernelspec": {
   "display_name": "Python 3",
   "language": "python",
   "name": "python3"
  },
  "language_info": {
   "codemirror_mode": {
    "name": "ipython",
    "version": 3
   },
   "file_extension": ".py",
   "mimetype": "text/x-python",
   "name": "python",
   "nbconvert_exporter": "python",
   "pygments_lexer": "ipython3",
   "version": "3.7.6"
  }
 },
 "nbformat": 4,
 "nbformat_minor": 4
}
