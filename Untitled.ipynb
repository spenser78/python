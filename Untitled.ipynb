{
 "cells": [
  {
   "cell_type": "markdown",
   "metadata": {},
   "source": [
    "Переведите содержимое файла purchase_log.txt в словарь purchases вида: {‘1840e0b9d4’: ‘Продукты’, …}\n"
   ]
  },
  {
   "cell_type": "markdown",
   "metadata": {},
   "source": [
    "Для каждого user_id в файле visit_log.csv определите третий столбец с категорией покупки (если покупка была, сам файл visit_log.csv изменять не надо). Запишите в файл funnel.csv визиты из файла visit_log.csv, в которых были покупки с указанием категории. Учтите условия на данные: содержимое purchase_log.txt помещается в оперативную память компьютера содержимое visit_log.csv - нет; используйте только построчную обработку этого файла"
   ]
  },
  {
   "cell_type": "code",
   "execution_count": 7,
   "metadata": {},
   "outputs": [
    {
     "name": "stdout",
     "output_type": "stream",
     "text": [
      "['user_id', 'source']\n",
      "['6450655ae8', 'other']\n",
      "['b4ea53e670', 'other']\n",
      "['0e37347152', 'other']\n",
      "['96064ae9e0', 'other']\n",
      "['e1bd168161', 'context']\n"
     ]
    }
   ],
   "source": [
    "import json\n",
    "\n",
    "f = open('visit_log.csv', 'r', encoding='utf-8')\n",
    "for i, line in enumerate(f):\n",
    "    data = line.strip().split(',')\n",
    "    print(data)\n",
    "    if i > 4:\n",
    "        break\n"
   ]
  },
  {
   "cell_type": "code",
   "execution_count": null,
   "metadata": {},
   "outputs": [],
   "source": []
  },
  {
   "cell_type": "markdown",
   "metadata": {},
   "source": [
    "Запись в файл:\n",
    "f.write()\n",
    "\n"
   ]
  },
  {
   "cell_type": "code",
   "execution_count": 12,
   "metadata": {},
   "outputs": [
    {
     "name": "stdout",
     "output_type": "stream",
     "text": [
      "[['user_id', 'category'], ['1840e0b9d4', 'Продукты'], ['4e4f90fcfb', 'Электроника'], ['afea8d72fc', 'Электроника'], ['373a6055fe', 'Бытовая техника']]\n"
     ]
    }
   ],
   "source": [
    "q = 0\n",
    "f = open('purchase_log.txt', encoding='utf-8') #открываем файл на чтение\n",
    "purchases = {} #создаем пустой словарь, куда будем складывать результат\n",
    "for line in f:    \n",
    "    if json.loads(line.strip())['user_id'] not in purchases.keys(): \n",
    "        purchases[json.loads(line.strip())['user_id']] = json.loads(line.strip())['category'] #используем метод преобразования строки, обрезанной от служебных символов (Стрип) в ключ словаря и его значение\n",
    "        list_of_purchases = []\n",
    "        for key, value in purchases.items():\n",
    "            list_of_purchases.append([key,value])\n",
    "\n",
    "        q += 1\n",
    "        if q > 4:\n",
    "            break\n",
    "print(list_of_purchases)\n",
    "\n",
    "    "
   ]
  },
  {
   "cell_type": "markdown",
   "metadata": {},
   "source": [
    "Таким образом у нас получаются два объекта:\n",
    "\n",
    "строки файла 'visit_log.csv' в формате \"список\" \n",
    "и\n",
    "строки списка 'list_of_purchases', которые лежат в оперативке, в формате \"список\" \n",
    "    \n",
    "Далее нам нужно объединить эти два объекта построчно таким образом, чтобы \n",
    "если значение в строке в visit_log.csv[i][0] равно значению в строке в list_of_purchases[i][0], то в конечный файл сливалось бы объединение visit_log.csv[i][0] и list_of_purchases[i][1]\n",
    "\n",
    "\n",
    "    "
   ]
  },
  {
   "cell_type": "code",
   "execution_count": null,
   "metadata": {},
   "outputs": [],
   "source": [
    "for line in data:\n",
    "    for addline in list_of_purchases:\n",
    "        result = []\n",
    "        if line[0] == addline[0]:\n",
    "            result.append([line[0], line[1]], addline[1])\n",
    "            "
   ]
  },
  {
   "cell_type": "code",
   "execution_count": null,
   "metadata": {},
   "outputs": [],
   "source": [
    "with open('visit_log.csv', 'r') as f:\n",
    "    with open('funnel.csv', 'w') as f2write:\n",
    "        for line in f:\n",
    "            if line.strip().split(',')[0] in list_of_purchases[0][0]:\n",
    "                f2write.write(line)"
   ]
  },
  {
   "cell_type": "code",
   "execution_count": null,
   "metadata": {},
   "outputs": [],
   "source": []
  },
  {
   "cell_type": "code",
   "execution_count": 57,
   "metadata": {},
   "outputs": [
    {
     "name": "stdout",
     "output_type": "stream",
     "text": [
      "['user_id', 'user_id']\n",
      "['user_id', 'user_id']\n",
      "['user_id', '1840e0b9d4']\n",
      "['user_id', '1840e0b9d4']\n",
      "['user_id', '4e4f90fcfb']\n",
      "['user_id', '4e4f90fcfb']\n",
      "['user_id', 'afea8d72fc']\n",
      "['user_id', 'afea8d72fc']\n",
      "['user_id', '373a6055fe']\n",
      "['user_id', '373a6055fe']\n"
     ]
    }
   ],
   "source": [
    "import json\n",
    "\n",
    "q = 0\n",
    "with open('purchase_log.txt', encoding='utf-8') as f:\n",
    "    for line in f:\n",
    "        purchases = json.loads(line.strip())\n",
    "        list_of_purchases = []\n",
    "        for key, value in purchases.items():\n",
    "            list_of_purchases.append([key,value])\n",
    "            print(list_of_purchases[0])\n",
    "        q += 1\n",
    "        if q > 4:\n",
    "            break\n",
    "\n",
    "        \n"
   ]
  },
  {
   "cell_type": "code",
   "execution_count": 1,
   "metadata": {},
   "outputs": [
    {
     "name": "stdout",
     "output_type": "stream",
     "text": [
      "user_id\n",
      "6450655ae8\n",
      "b4ea53e670\n",
      "0e37347152\n",
      "96064ae9e0\n",
      "e1bd168161\n"
     ]
    },
    {
     "ename": "TypeError",
     "evalue": "append() takes exactly one argument (2 given)",
     "output_type": "error",
     "traceback": [
      "\u001b[1;31m---------------------------------------------------------------------------\u001b[0m",
      "\u001b[1;31mTypeError\u001b[0m                                 Traceback (most recent call last)",
      "\u001b[1;32m<ipython-input-1-b81dd4f2eab5>\u001b[0m in \u001b[0;36m<module>\u001b[1;34m\u001b[0m\n\u001b[0;32m     17\u001b[0m         \u001b[0mlist_of_purchases\u001b[0m \u001b[1;33m=\u001b[0m \u001b[1;33m[\u001b[0m\u001b[1;33m]\u001b[0m\u001b[1;33m\u001b[0m\u001b[1;33m\u001b[0m\u001b[0m\n\u001b[0;32m     18\u001b[0m         \u001b[1;32mfor\u001b[0m \u001b[0mkey\u001b[0m\u001b[1;33m,\u001b[0m \u001b[0mvalue\u001b[0m \u001b[1;32min\u001b[0m \u001b[0mpurchases\u001b[0m\u001b[1;33m.\u001b[0m\u001b[0mitems\u001b[0m\u001b[1;33m(\u001b[0m\u001b[1;33m)\u001b[0m\u001b[1;33m:\u001b[0m\u001b[1;33m\u001b[0m\u001b[1;33m\u001b[0m\u001b[0m\n\u001b[1;32m---> 19\u001b[1;33m             \u001b[0mlist_of_purchases\u001b[0m\u001b[1;33m.\u001b[0m\u001b[0mappend\u001b[0m\u001b[1;33m(\u001b[0m\u001b[0mkey\u001b[0m\u001b[1;33m,\u001b[0m\u001b[0mvalue\u001b[0m\u001b[1;33m)\u001b[0m\u001b[1;33m\u001b[0m\u001b[1;33m\u001b[0m\u001b[0m\n\u001b[0m\u001b[0;32m     20\u001b[0m             \u001b[0mprint\u001b[0m\u001b[1;33m(\u001b[0m\u001b[0mlist_of_purchases\u001b[0m\u001b[1;33m)\u001b[0m\u001b[1;33m\u001b[0m\u001b[1;33m\u001b[0m\u001b[0m\n\u001b[0;32m     21\u001b[0m \u001b[1;33m\u001b[0m\u001b[0m\n",
      "\u001b[1;31mTypeError\u001b[0m: append() takes exactly one argument (2 given)"
     ]
    }
   ],
   "source": [
    "    \n",
    "print(list_of_purchases)        "
   ]
  },
  {
   "cell_type": "code",
   "execution_count": null,
   "metadata": {},
   "outputs": [],
   "source": [
    "with open('visit_log.csv', 'r', encoding = 'utf-8') as f: #открываю документ для чтения\n",
    "    with open('funnel.csv', 'w', encoding = 'utf-8') as f2write: #открываю документ для записи\n",
    "        files_list = [] #создаю список для записи информации из документов\n",
    "        for i, files in enumerate(f): #создаю цикл для итерации по информации в документах\n",
    "            files_list.append(files.split(',')) #итеративно включаю информацию из документов в список\n",
    "        id_purchases = [] #создаю список id, которые совершали покупки\n",
    "        for id_ in files_list: #создаю цикл для перебора строк в списке с инфой из документов\n",
    "            ids = id_[0] #разбиваю строку на 2 элемента списка\n",
    "            if ids in purchases_.keys(): #проверяю, для каких id были совершены покупки\n",
    "                id_purchases.append(ids) #выбираю те id, для которых были совершены покупки и помещаю их в отдельный список\n",
    "            else:\n",
    "                pass\n",
    "        #print(id_purchases)\n",
    "        categories = [] #создаю список с категориями совершённых покупок\n",
    "        categories.append('purchase')\n",
    "        for keys, values in purchases_.items(): #завожу цикл для распаковки элементов словаря с покупками\n",
    "            if keys in id_purchases: #проверяю, есть ли ключ словаря в списке id\n",
    "                categories.append(values) #если есть, включаю категории покупок в приготовленный список\n",
    "                #print(values)\n",
    "            else:\n",
    "                pass\n",
    "        files_purchases = zip(files_list, categories) #соединяю список инфы по документам со списком совершённых покупок\n",
    "        files_purchases_list = list(files_purchases) #превращаю зип-файл в список\n",
    "        #print(files_purchases_list)\n",
    "        for files_p in files_purchases_list:\n",
    "            #print(files_p)\n",
    "            id_source = (' '.join(files_p[0])).strip()\n",
    "            purchase = files_p[1]\n",
    "            id_source_purchase = (f'{id_source} {purchase}')\n",
    "            f2write.write(id_source_purchase)\n",
    "            print(id_source_purchase)"
   ]
  }
 ],
 "metadata": {
  "kernelspec": {
   "display_name": "Python 3",
   "language": "python",
   "name": "python3"
  },
  "language_info": {
   "codemirror_mode": {
    "name": "ipython",
    "version": 3
   },
   "file_extension": ".py",
   "mimetype": "text/x-python",
   "name": "python",
   "nbconvert_exporter": "python",
   "pygments_lexer": "ipython3",
   "version": "3.7.6"
  }
 },
 "nbformat": 4,
 "nbformat_minor": 4
}
