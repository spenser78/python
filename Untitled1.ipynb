{
 "cells": [
  {
   "cell_type": "markdown",
   "metadata": {},
   "source": [
    "Переведите содержимое файла purchase_log.txt в словарь purchases вида:\n",
    "{‘1840e0b9d4’: ‘Продукты’, …}\n",
    "\n",
    "\n",
    "\n"
   ]
  },
  {
   "cell_type": "code",
   "execution_count": 55,
   "metadata": {},
   "outputs": [
    {
     "name": "stdout",
     "output_type": "stream",
     "text": [
      "{'user_id': 'category', '1840e0b9d4': 'Продукты'}\n"
     ]
    }
   ],
   "source": [
    "import json #нам понадобится джейсон для переведения строк из файла в словарь формата, понятного Питону\n",
    "\n",
    "q = 0\n",
    "f = open('purchase_log.txt', encoding='utf-8') #открываем файл на чтение\n",
    "purchases = {} #создаем пустой словарь, куда будем складывать результат\n",
    "for line in f:    \n",
    "    if json.loads(line.strip())['user_id'] not in purchases.keys(): \n",
    "        purchases[json.loads(line.strip())['user_id']] = json.loads(line.strip())['category'] #используем метод преобразования строки, обрезанной от служебных символов (Стрип) в ключ словаря и его значение\n",
    "        q += 1\n",
    "        if q > 1:\n",
    "            break\n",
    "print(purchases)"
   ]
  },
  {
   "cell_type": "markdown",
   "metadata": {},
   "source": [
    "Для каждого user_id в файле visit_log.csv определите третий столбец с категорией покупки (если покупка была, сам файл visit_log.csv изменять не надо). Запишите в файл funnel.csv визиты из файла visit_log.csv, в которых были покупки с указанием категории.\n",
    "Учтите условия на данные:\n",
    "содержимое purchase_log.txt помещается в оперативную память компьютера\n",
    "содержимое visit_log.csv - нет; используйте только построчную обработку этого файла\n"
   ]
  },
  {
   "cell_type": "code",
   "execution_count": null,
   "metadata": {},
   "outputs": [],
   "source": [
    "import json\n",
    "\n",
    "with open('purchase_log.txt', encoding='utf-8') as f:\n",
    "    with open ('visit_log.csv', encoding='utf-8') as f2:\n",
    "        purchases = {}\n",
    "        for line in f:    \n",
    "            if json.loads(line.strip())['user_id'] not in purchases.keys(): \n",
    "                purchases[json.loads(line.strip())['user_id']] = json.loads(line.strip())['category'] #используем метод преобразования строки, обрезанной от служебных символов (Стрип) в ключ словаря и его значение\n",
    "                list_of_purchases = []\n",
    "                for key, value in purchases.items():\n",
    "                    list_of_purchases.append([key,value])\n",
    "\n",
    "        for line in f2:\n",
    "            data = line.strip().split(',')\n",
    "\n"
   ]
  }
 ],
 "metadata": {
  "kernelspec": {
   "display_name": "Python 3",
   "language": "python",
   "name": "python3"
  },
  "language_info": {
   "codemirror_mode": {
    "name": "ipython",
    "version": 3
   },
   "file_extension": ".py",
   "mimetype": "text/x-python",
   "name": "python",
   "nbconvert_exporter": "python",
   "pygments_lexer": "ipython3",
   "version": "3.7.6"
  }
 },
 "nbformat": 4,
 "nbformat_minor": 4
}
