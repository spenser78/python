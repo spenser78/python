{
 "cells": [
  {
   "cell_type": "markdown",
   "metadata": {},
   "source": [
    "Переведите содержимое файла purchase_log.txt в словарь purchases вида:\n",
    "{‘1840e0b9d4’: ‘Продукты’, …}"
   ]
  },
  {
   "cell_type": "code",
   "execution_count": 4,
   "metadata": {},
   "outputs": [
    {
     "name": "stdout",
     "output_type": "stream",
     "text": [
      "{'1840e0b9d4': 'Продукты', '4e4f90fcfb': 'Электроника', 'afea8d72fc': 'Электроника', '373a6055fe': 'Бытовая техника', '9b2ab046f3': 'Электроника'}\n"
     ]
    }
   ],
   "source": [
    "import json\n",
    "\n",
    "purchases = {}\n",
    "\n",
    "with open('purchase_log.txt', 'r', encoding = 'utf-8') as f:\n",
    "    for line_number, line in enumerate(f):\n",
    "        if line_number == 0:\n",
    "            continue\n",
    "        else:\n",
    "            purchase = json.loads(line.strip())\n",
    "            purchases.update({purchase['user_id']:purchase['category']}) \n",
    "            if line_number == 5:\n",
    "                break\n",
    "print(purchases)"
   ]
  },
  {
   "cell_type": "code",
   "execution_count": null,
   "metadata": {},
   "outputs": [],
   "source": []
  },
  {
   "cell_type": "markdown",
   "metadata": {},
   "source": [
    "Для каждого user_id в файле visit_log.csv определите третий столбец с категорией покупки (если покупка была, сам файл visit_log.csv изменять не надо). Запишите в файл funnel.csv визиты из файла visit_log.csv, в которых были покупки с указанием категории.\n",
    "Учтите условия на данные:\n",
    "содержимое purchase_log.txt помещается в оперативную память компьютера\n",
    "содержимое visit_log.csv - нет; используйте только построчную обработку этого файла"
   ]
  },
  {
   "cell_type": "code",
   "execution_count": 11,
   "metadata": {},
   "outputs": [],
   "source": [
    "import json\n",
    "\n",
    "purchases = {}\n",
    "\n",
    "with open('purchase_log.txt', 'r', encoding = 'utf-8') as f:\n",
    "    for line_number, line in enumerate(f):\n",
    "        if line_number == 0:\n",
    "            continue\n",
    "        else:\n",
    "            purchase = json.loads(line.strip())\n",
    "            purchases.update({purchase['user_id']:purchase['category']}) \n",
    "            \n",
    "            \n",
    "            \n",
    "\n",
    "with open('visit_log.csv', 'r', encoding = 'utf-8') as f:\n",
    "    with open('funnel.csv', 'w') as f2write:\n",
    "        f2write.write('user_id,source,category\\n')\n",
    "        for i, line in enumerate (f):\n",
    "            if i == 0:\n",
    "                continue\n",
    "            else:\n",
    "                user_id, source = line.strip().split(',')\n",
    "                if user_id in purchases.keys():\n",
    "                    f2write.write(f'{user_id},{source},{purchases[user_id]}\\n')"
   ]
  }
 ],
 "metadata": {
  "kernelspec": {
   "display_name": "Python 3",
   "language": "python",
   "name": "python3"
  },
  "language_info": {
   "codemirror_mode": {
    "name": "ipython",
    "version": 3
   },
   "file_extension": ".py",
   "mimetype": "text/x-python",
   "name": "python",
   "nbconvert_exporter": "python",
   "pygments_lexer": "ipython3",
   "version": "3.7.6"
  }
 },
 "nbformat": 4,
 "nbformat_minor": 4
}
